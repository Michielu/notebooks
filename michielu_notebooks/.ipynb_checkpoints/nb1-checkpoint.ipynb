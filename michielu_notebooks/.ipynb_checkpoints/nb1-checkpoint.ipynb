{
 "cells": [
  {
   "cell_type": "markdown",
   "metadata": {},
   "source": [
    "##Notebook Getting somewhere"
   ]
  },
  {
   "cell_type": "code",
   "execution_count": 2,
   "metadata": {},
   "outputs": [],
   "source": [
    "import pandas as pd\n",
    "import numpy as np\n",
    "import json\n",
    "import requests\n",
    "from math import atan2, cos, radians, sin, sqrt \n",
    "\n",
    "\n",
    "dirpath = 'U:/Documents/notebooks/data/'\n",
    "filename = 'sensorlist.csv'\n",
    "\n"
   ]
  },
  {
   "cell_type": "markdown",
   "metadata": {},
   "source": [
    "### Assign Functions"
   ]
  },
  {
   "cell_type": "code",
   "execution_count": 9,
   "metadata": {},
   "outputs": [],
   "source": [
    "def get_locations(df):\n",
    "    d = []\n",
    "    for i in range(len(df)):\n",
    "        x = {\n",
    "            'geometry':{\n",
    "                'lat':df.iloc[i]['Latitude'], \n",
    "                'lon':df.iloc[i]['Longitude']\n",
    "            },\n",
    "            'id':df.iloc[i]['NewSensorName']\n",
    "        }\n",
    "        d.append(x)\n",
    "\n",
    "#     locations = json.dumps(d, ensure_ascii=False)\n",
    "#     print(d)\n",
    "    return d\n",
    "\n",
    "def calulate_distance(sLat, sLon, eLat, eLon):\n",
    "    R = 6373.0\n",
    "\n",
    "    lat1 = radians(sLat)\n",
    "    lon1 = radians(sLon)\n",
    "    lat2 = radians(eLat)\n",
    "    lon2 = radians(eLon)\n",
    "\n",
    "    dlon = lon2 - lon1\n",
    "    dlat = lat2 - lat1\n",
    "\n",
    "    a = sin(dlat / 2)**2 + cos(lat1) * cos(lat2) * sin(dlon / 2)**2\n",
    "    c = 2 * atan2(sqrt(a), sqrt(1 - a))\n",
    "\n",
    "    distance = R * c\n",
    "    return distance\n",
    "\n",
    "def get_closest_location(df, ref):\n",
    "    \n",
    "    distances = []\n",
    "    for loc in df:\n",
    "        \n",
    "        dis = calulate_distance(loc['geometry']['lat'], loc['geometry']['lon'], ref['lat'], ref['lon'])\n",
    "        if dis < 150:\n",
    "            loc['dis'] = dis\n",
    "            distances.append(loc)\n",
    "    \n",
    "    return distances\n",
    "#     print(df)\n",
    "\n",
    "def sort_distances(arr):\n",
    "    newlist = sorted(arr, key=lambda k: k['dis'], reverse=False) \n",
    "    return newlist[:20]"
   ]
  },
  {
   "cell_type": "markdown",
   "metadata": {},
   "source": [
    "### Main function"
   ]
  },
  {
   "cell_type": "code",
   "execution_count": 10,
   "metadata": {},
   "outputs": [
    {
     "name": "stdout",
     "output_type": "stream",
     "text": [
      "[{'geometry': {'lat': 42.488401, 'lon': -96.401309}, 'id': 'IWZ0472-SB', 'dis': 4.912185690453618}, {'geometry': {'lat': 42.488796, 'lon': -96.401222}, 'id': 'IWZ0472-NB', 'dis': 4.950952144424611}, {'geometry': {'lat': 42.489596999999996, 'lon': -96.408422}, 'id': 'SCDS12-NB', 'dis': 5.263570589466044}, {'geometry': {'lat': 42.489596999999996, 'lon': -96.408422}, 'id': 'SCDS12-SB', 'dis': 5.263570589466044}, {'geometry': {'lat': 42.491845, 'lon': -96.415842}, 'id': 'SCDS13-SB', 'dis': 5.7703111764700195}, {'geometry': {'lat': 42.491953, 'lon': -96.415821}, 'id': 'SCDS13-NB', 'dis': 5.779836186200504}, {'geometry': {'lat': 42.49199, 'lon': -96.41834}, 'id': 'DMTT06-SB', 'dis': 5.8896453529396195}, {'geometry': {'lat': 42.492129999999996, 'lon': -96.41834}, 'id': 'DMTT06-NB', 'dis': 5.9028836121232136}, {'geometry': {'lat': 42.49177, 'lon': -96.42472}, 'id': 'SCDS30-SB', 'dis': 6.1617374372729214}, {'geometry': {'lat': 42.4922, 'lon': -96.42477}, 'id': 'SCDS30-NB', 'dis': 6.202858349642563}, {'geometry': {'lat': 42.491501, 'lon': -96.44211700000001}, 'id': 'SCDS15-NB', 'dis': 7.075465773361427}, {'geometry': {'lat': 42.491507, 'lon': -96.442132}, 'id': 'SCDS15-SB', 'dis': 7.076811815171614}, {'geometry': {'lat': 42.492502, 'lon': -96.451207}, 'id': 'SCDS26-SB', 'dis': 7.698858353549295}, {'geometry': {'lat': 42.492661, 'lon': -96.451133}, 'id': 'SCDS26-NB', 'dis': 7.705927148665903}, {'geometry': {'lat': 42.49365, 'lon': -96.4629}, 'id': 'SCDS16-NB', 'dis': 8.522360312895279}, {'geometry': {'lat': 42.491984, 'lon': -96.46656999999999}, 'id': 'SCDS16-SB', 'dis': 8.654723237515942}, {'geometry': {'lat': 42.493958, 'lon': -96.471704}, 'id': 'SCDS17-NB', 'dis': 9.125482249080596}, {'geometry': {'lat': 42.493958, 'lon': -96.471704}, 'id': 'SCDS17-SB', 'dis': 9.125482249080596}, {'geometry': {'lat': 41.497766, 'lon': -95.35268}, 'id': 'IWZ3545-WB', 'dis': 135.54121466581316}, {'geometry': {'lat': 41.497467, 'lon': -95.352593}, 'id': 'IWZ3545-EB', 'dis': 135.57175711776023}, {'geometry': {'lat': 41.286879, 'lon': -95.868351}, 'id': 'CBDS45-SB', 'dis': 135.8328410106307}, {'geometry': {'lat': 41.284690000000005, 'lon': -95.866463}, 'id': 'CBDS44-NB', 'dis': 136.113226484988}, {'geometry': {'lat': 41.272706, 'lon': -95.89845600000001}, 'id': 'CBDS41-SB', 'dis': 136.58296729715775}, {'geometry': {'lat': 41.272521999999995, 'lon': -95.898327}, 'id': 'CBDS41-NB', 'dis': 136.6056801755943}, {'geometry': {'lat': 41.274933000000004, 'lon': -95.885933}, 'id': 'CBDS42-NB', 'dis': 136.6533020345048}, {'geometry': {'lat': 41.274933000000004, 'lon': -95.885933}, 'id': 'CBDS42-SB', 'dis': 136.6533020345048}, {'geometry': {'lat': 41.270270000000004, 'lon': -95.90633199999999}, 'id': 'CBDS40-SB', 'dis': 136.65336223434076}, {'geometry': {'lat': 41.269498, 'lon': -95.905731}, 'id': 'CBDS40-NB', 'dis': 136.74998766054506}, {'geometry': {'lat': 41.275742, 'lon': -95.87832900000001}, 'id': 'CBDS43-SB', 'dis': 136.75765481860503}, {'geometry': {'lat': 41.275077, 'lon': -95.87785699999999}, 'id': 'CBDS43-NB', 'dis': 136.84007618135217}, {'geometry': {'lat': 41.266883, 'lon': -95.90803299999999}, 'id': 'CBDS38-SB', 'dis': 136.97420394540742}, {'geometry': {'lat': 41.49805, 'lon': -95.321696}, 'id': 'IWZ3090-WB', 'dis': 137.1379036421522}, {'geometry': {'lat': 41.2654, 'lon': -95.9078}, 'id': 'CBDS37-NB', 'dis': 137.1379263786063}, {'geometry': {'lat': 41.497687, 'lon': -95.321652}, 'id': 'IWZ3090-EB', 'dis': 137.1714624450822}, {'geometry': {'lat': 41.261633, 'lon': -95.913517}, 'id': 'CBDS36-EB', 'dis': 137.40575870795837}, {'geometry': {'lat': 41.261633, 'lon': -95.913517}, 'id': 'CBDS36-WB', 'dis': 137.40575870795837}, {'geometry': {'lat': 41.2602, 'lon': -95.917583}, 'id': 'CBDS39-EB', 'dis': 137.4644738362153}, {'geometry': {'lat': 41.2602, 'lon': -95.917583}, 'id': 'CBDS39-WB', 'dis': 137.4644738362153}, {'geometry': {'lat': 41.259183, 'lon': -95.90686600000001}, 'id': 'CBDS35-SB', 'dis': 137.82333503554835}, {'geometry': {'lat': 41.258986, 'lon': -95.906515}, 'id': 'CBDS35-NB', 'dis': 137.85263804949557}, {'geometry': {'lat': 41.256993, 'lon': -95.906981}, 'id': 'CBDS34-SB', 'dis': 138.05434538806244}, {'geometry': {'lat': 41.256997, 'lon': -95.906761}, 'id': 'CBDS34-NB', 'dis': 138.05909886658935}, {'geometry': {'lat': 41.498544, 'lon': -95.302356}, 'id': 'IWZ3070-WB', 'dis': 138.12222260807252}, {'geometry': {'lat': 41.498128, 'lon': -95.30229399999999}, 'id': 'IWZ3070-EB', 'dis': 138.16106166430885}, {'geometry': {'lat': 41.283183, 'lon': -95.78286700000001}, 'id': 'CBDS25-EB', 'dis': 138.5922579637804}, {'geometry': {'lat': 41.283183, 'lon': -95.78286700000001}, 'id': 'CBDS25-WB', 'dis': 138.5922579637804}, {'geometry': {'lat': 41.25165, 'lon': -95.907133}, 'id': 'CBDS33-NB', 'dis': 138.62114340024553}, {'geometry': {'lat': 41.25165, 'lon': -95.907133}, 'id': 'CBDS33-SB', 'dis': 138.62114340024553}, {'geometry': {'lat': 41.246867, 'lon': -95.907133}, 'id': 'CBDS32-NB', 'dis': 139.1319080438188}, {'geometry': {'lat': 41.246867, 'lon': -95.907133}, 'id': 'CBDS32-SB', 'dis': 139.1319080438188}, {'geometry': {'lat': 41.243277, 'lon': -95.904915}, 'id': 'CBDS31-NB', 'dis': 139.56715500311054}, {'geometry': {'lat': 41.242504, 'lon': -95.905795}, 'id': 'CBDS31-SB', 'dis': 139.62914895643317}, {'geometry': {'lat': 41.498296, 'lon': -95.274139}, 'id': 'IWZ3066-WB', 'dis': 139.6606170094451}, {'geometry': {'lat': 41.497957, 'lon': -95.27416}, 'id': 'IWZ3066-EB', 'dis': 139.6881297955985}, {'geometry': {'lat': 41.268267, 'lon': -95.79476700000001}, 'id': 'CBDS24-EB', 'dis': 139.7999828681641}, {'geometry': {'lat': 41.268267, 'lon': -95.79476700000001}, 'id': 'CBDS24-WB', 'dis': 139.7999828681641}, {'geometry': {'lat': 41.238329, 'lon': -95.90098}, 'id': 'CBDS75-NB', 'dis': 140.1876995334253}, {'geometry': {'lat': 41.237767, 'lon': -95.90085}, 'id': 'CBDS04-SB', 'dis': 140.25074930268397}, {'geometry': {'lat': 41.260667, 'lon': -95.803567}, 'id': 'CBDS23-EB', 'dis': 140.34411231349503}, {'geometry': {'lat': 41.260667, 'lon': -95.803567}, 'id': 'CBDS23-WB', 'dis': 140.34411231349503}, {'geometry': {'lat': 41.231767, 'lon': -95.90705}, 'id': 'CBDS01-EB', 'dis': 140.74734914712394}, {'geometry': {'lat': 41.231767, 'lon': -95.90705}, 'id': 'CBDS01-WB', 'dis': 140.74734914712394}, {'geometry': {'lat': 41.232487, 'lon': -95.901223}, 'id': 'CBDS72-WB', 'dis': 140.8058026787152}, {'geometry': {'lat': 41.232215000000004, 'lon': -95.901154}, 'id': 'CBDS72-EB', 'dis': 140.83646497983545}, {'geometry': {'lat': 41.2334, 'lon': -95.891009}, 'id': 'CBDS61-WB', 'dis': 140.9495156726142}, {'geometry': {'lat': 41.232289, 'lon': -95.890984}, 'id': 'CBDS61-EB', 'dis': 141.06856472711715}, {'geometry': {'lat': 41.23219, 'lon': -95.89095400000001}, 'id': 'CBDS73-SB', 'dis': 141.0798351275572}, {'geometry': {'lat': 41.232271999999995, 'lon': -95.884715}, 'id': 'CBDS74-EBEN', 'dis': 141.22062037664887}, {'geometry': {'lat': 41.232467, 'lon': -95.883072}, 'id': 'CBDS55-WB', 'dis': 141.2395222279088}, {'geometry': {'lat': 41.232467, 'lon': -95.883072}, 'id': 'CBDS55-WB', 'dis': 141.2395222279088}, {'geometry': {'lat': 41.23225, 'lon': -95.883063}, 'id': 'CBDS55-EB', 'dis': 141.26284628004439}, {'geometry': {'lat': 41.23225, 'lon': -95.883063}, 'id': 'CBDS55-EB', 'dis': 141.26284628004439}, {'geometry': {'lat': 41.497585, 'lon': -95.244947}, 'id': 'IWZ3549-WB', 'dis': 141.31310170157002}, {'geometry': {'lat': 41.497208, 'lon': -95.244929}, 'id': 'IWZ3549-EB', 'dis': 141.3456126476098}, {'geometry': {'lat': 41.232329, 'lon': -95.874076}, 'id': 'CBDS58-WB', 'dis': 141.47353463631578}, {'geometry': {'lat': 41.232329, 'lon': -95.874076}, 'id': 'CBDS58-WB', 'dis': 141.47353463631578}, {'geometry': {'lat': 41.232129, 'lon': -95.874082}, 'id': 'CBDS58-EB', 'dis': 141.4946513035443}, {'geometry': {'lat': 41.232129, 'lon': -95.874082}, 'id': 'CBDS58-EB', 'dis': 141.4946513035443}, {'geometry': {'lat': 41.246633, 'lon': -95.81485}, 'id': 'CBDS22-EB', 'dis': 141.50216896140145}, {'geometry': {'lat': 41.246633, 'lon': -95.81485}, 'id': 'CBDS22-WB', 'dis': 141.50216896140145}, {'geometry': {'lat': 41.232395000000004, 'lon': -95.858758}, 'id': 'CBDS78-WB', 'dis': 141.8482147580357}, {'geometry': {'lat': 41.232395000000004, 'lon': -95.858758}, 'id': 'CBDS78-WB', 'dis': 141.8482147580357}, {'geometry': {'lat': 41.232027, 'lon': -95.85874100000001}, 'id': 'CBDS78-EB', 'dis': 141.88766692605617}, {'geometry': {'lat': 41.232027, 'lon': -95.85874100000001}, 'id': 'CBDS78-EB', 'dis': 141.88766692605617}, {'geometry': {'lat': 41.239565, 'lon': -95.825374}, 'id': 'IWZ2992-WB', 'dis': 141.96011578095892}, {'geometry': {'lat': 41.238841, 'lon': -95.825212}, 'id': 'IWZ2992-EB', 'dis': 142.0407347697665}, {'geometry': {'lat': 41.232163, 'lon': -95.851977}, 'id': 'CBDS79-WB', 'dis': 142.04505207708547}, {'geometry': {'lat': 41.232163, 'lon': -95.851977}, 'id': 'CBDS79-WB', 'dis': 142.04505207708547}, {'geometry': {'lat': 41.23291, 'lon': -95.846231}, 'id': 'IWZ3533-WB', 'dis': 142.11353805305058}, {'geometry': {'lat': 41.237685, 'lon': -95.826149}, 'id': 'CBDS82-WB', 'dis': 142.1374132827807}, {'geometry': {'lat': 41.237607000000004, 'lon': -95.825733}, 'id': 'CBDS82-EB', 'dis': 142.15677500223933}, {'geometry': {'lat': 41.23128, 'lon': -95.846209}, 'id': 'IWZ3533-NB', 'dis': 142.2865723067955}, {'geometry': {'lat': 41.2305, 'lon': -95.843583}, 'id': 'CBDS16-SB', 'dis': 142.4369294369303}, {'geometry': {'lat': 41.2305, 'lon': -95.843583}, 'id': 'CBDS16-EB', 'dis': 142.4369294369303}, {'geometry': {'lat': 41.230891, 'lon': -95.840725}, 'id': 'CBDS81-WBEX', 'dis': 142.46974654096974}, {'geometry': {'lat': 41.232918, 'lon': -95.828351}, 'id': 'CBDS20-EB', 'dis': 142.58118655754745}, {'geometry': {'lat': 41.232918, 'lon': -95.828351}, 'id': 'CBDS20-WB', 'dis': 142.58118655754745}, {'geometry': {'lat': 41.225953000000004, 'lon': -95.836588}, 'id': 'CBDS19-NB', 'dis': 143.0994747838765}, {'geometry': {'lat': 41.220513000000004, 'lon': -95.83173000000001}, 'id': 'CBDS76-NB', 'dis': 143.80129442785977}, {'geometry': {'lat': 41.220346, 'lon': -95.832021}, 'id': 'CBDS76-SB', 'dis': 143.81131135472492}, {'geometry': {'lat': 41.206262, 'lon': -95.82387}, 'id': 'CBDS28-SB', 'dis': 145.5127193167575}, {'geometry': {'lat': 41.206262, 'lon': -95.822818}, 'id': 'CBDS28-NB', 'dis': 145.54038535228713}]\n"
     ]
    }
   ],
   "source": [
    "# load your data\n",
    "df = pd.read_csv(dirpath+filename)\n",
    "\n",
    "# n=500\n",
    "\n",
    "# ans=[]\n",
    "# for i in range(len(df)//n+1):\n",
    "#     ans.append(df[i*n:i*n+n])\n",
    "    \n",
    "# print(ans)\n",
    "# print(df)\n",
    "\n",
    "data = get_locations(df)\n",
    "# print(data)\n",
    "distances = get_closest_location(data, {'lat':42.446989, 'lon':-96.380511})\n",
    "sorted_list = sort_distances(distances)\n",
    "print(sorted_list)\n",
    "# dist = calulate_distance(42.446989, -96.380511, 42.48597, -96.39441)\n",
    "# print(dist)\n",
    "\n",
    "# TODO: Get top 20 or top 10.\n",
    "# -- then plug it into the flask from the front end"
   ]
  },
  {
   "cell_type": "markdown",
   "metadata": {},
   "source": [
    "[{'geometry': {'y': 41.7081, 'x': -93.57665}}]"
   ]
  },
  {
   "cell_type": "code",
   "execution_count": 32,
   "metadata": {},
   "outputs": [],
   "source": [
    "# data.to_csv(dirpath+'/output/' + 'got_locations', header=True, index=False)"
   ]
  }
 ],
 "metadata": {
  "kernelspec": {
   "display_name": "Python 3",
   "language": "python",
   "name": "python3"
  },
  "language_info": {
   "codemirror_mode": {
    "name": "ipython",
    "version": 3
   },
   "file_extension": ".py",
   "mimetype": "text/x-python",
   "name": "python",
   "nbconvert_exporter": "python",
   "pygments_lexer": "ipython3",
   "version": "3.7.2"
  }
 },
 "nbformat": 4,
 "nbformat_minor": 2
}
