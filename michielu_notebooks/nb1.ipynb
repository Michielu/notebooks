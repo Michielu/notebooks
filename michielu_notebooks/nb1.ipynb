{
 "cells": [
  {
   "cell_type": "markdown",
   "metadata": {},
   "source": [
    "##Notebook Getting somewhere"
   ]
  },
  {
   "cell_type": "code",
   "execution_count": 2,
   "metadata": {},
   "outputs": [],
   "source": [
    "import pandas as pd\n",
    "import numpy as np\n",
    "import json\n",
    "import requests\n",
    "from math import atan2, cos, radians, sin, sqrt \n",
    "\n",
    "\n",
    "dirpath = 'U:/Documents/notebooks/data/'\n",
    "filename = 'sensorlist.csv'\n",
    "\n"
   ]
  },
  {
   "cell_type": "markdown",
   "metadata": {},
   "source": [
    "### Assign Functions"
   ]
  },
  {
   "cell_type": "code",
   "execution_count": 11,
   "metadata": {},
   "outputs": [],
   "source": [
    "def get_locations(df):\n",
    "    d = []\n",
    "    for i in range(len(df)):\n",
    "        x = {\n",
    "            'geometry':{\n",
    "                'lat':df.iloc[i]['Latitude'], \n",
    "                'lng':df.iloc[i]['Longitude']\n",
    "            },\n",
    "            'id':df.iloc[i]['NewSensorName']\n",
    "        }\n",
    "        d.append(x)\n",
    "\n",
    "#     locations = json.dumps(d, ensure_ascii=False)\n",
    "#     print(d)\n",
    "    return d\n",
    "\n",
    "def calulate_distance(sLat, sLon, eLat, eLon):\n",
    "    R = 6373.0\n",
    "\n",
    "    lat1 = radians(sLat)\n",
    "    lon1 = radians(sLon)\n",
    "    lat2 = radians(eLat)\n",
    "    lon2 = radians(eLon)\n",
    "\n",
    "    dlon = lon2 - lon1\n",
    "    dlat = lat2 - lat1\n",
    "\n",
    "    a = sin(dlat / 2)**2 + cos(lat1) * cos(lat2) * sin(dlon / 2)**2\n",
    "    c = 2 * atan2(sqrt(a), sqrt(1 - a))\n",
    "\n",
    "    distance = R * c\n",
    "    return distance\n",
    "\n",
    "def get_closest_location(df, ref):\n",
    "    \n",
    "    distances = []\n",
    "    for loc in df:\n",
    "        \n",
    "        dis = calulate_distance(loc['geometry']['lat'], loc['geometry']['lon'], ref['lat'], ref['lon'])\n",
    "        if dis < 150:\n",
    "            loc['dis'] = dis\n",
    "            distances.append(loc)\n",
    "    \n",
    "    return distances\n",
    "#     print(df)\n",
    "\n",
    "def sort_distances(arr):\n",
    "    newlist = sorted(arr, key=lambda k: k['dis'], reverse=False) \n",
    "    return newlist[:20]"
   ]
  },
  {
   "cell_type": "markdown",
   "metadata": {},
   "source": [
    "### Main function"
   ]
  },
  {
   "cell_type": "code",
   "execution_count": 12,
   "metadata": {},
   "outputs": [
    {
     "name": "stdout",
     "output_type": "stream",
     "text": [
      "[{'geometry': {'lat': 42.446989, 'lon': -96.380511}, 'id': 'SCDS07-EB', 'dis': 0.0}, {'geometry': {'lat': 42.446989, 'lon': -96.380511}, 'id': 'SCDS07-WB', 'dis': 0.0}, {'geometry': {'lat': 42.446131, 'lon': -96.37464200000001}, 'id': 'SCDS06-EB', 'dis': 0.4910742786700747}, {'geometry': {'lat': 42.446017, 'lon': -96.3746}, 'id': 'SCDS06-WB', 'dis': 0.4970598337991316}, {'geometry': {'lat': 42.452177, 'lon': -96.37575}, 'id': 'SCDS08-SB', 'dis': 0.6969111186104224}, {'geometry': {'lat': 42.452221, 'lon': -96.37575}, 'id': 'SCDS08-NB', 'dis': 0.7009688647117327}, {'geometry': {'lat': 42.442033, 'lon': -96.37486700000001}, 'id': 'SCDS05-NB', 'dis': 0.7200634516708234}, {'geometry': {'lat': 42.442033, 'lon': -96.37486700000001}, 'id': 'SCDS05-SB', 'dis': 0.7200634516708234}, {'geometry': {'lat': 42.445684, 'lon': -96.366638}, 'id': 'SCDS18-WB', 'dis': 1.1478770606417115}, {'geometry': {'lat': 42.444953999999996, 'lon': -96.366786}, 'id': 'SCDS18-EB', 'dis': 1.1490369582992697}, {'geometry': {'lat': 42.465073, 'lon': -96.380234}, 'id': 'SCDS29-SB', 'dis': 2.01160874833512}, {'geometry': {'lat': 42.465139, 'lon': -96.380015}, 'id': 'SCDS29-NB', 'dis': 2.0192317768797294}, {'geometry': {'lat': 42.443777000000004, 'lon': -96.352583}, 'id': 'SCDS19-WB', 'dis': 2.319972011822271}, {'geometry': {'lat': 42.443618, 'lon': -96.352577}, 'id': 'SCDS19-EB', 'dis': 2.323250163802535}, {'geometry': {'lat': 42.47055, 'lon': -96.38150300000001}, 'id': 'SCDS09-NB', 'dis': 2.6219501100367655}, {'geometry': {'lat': 42.47055, 'lon': -96.38150300000001}, 'id': 'SCDS09-SB', 'dis': 2.6219501100367655}, {'geometry': {'lat': 42.48597, 'lon': -96.39441}, 'id': 'SCDS31-SB', 'dis': 4.483321917550176}, {'geometry': {'lat': 42.48628, 'lon': -96.39409}, 'id': 'SCDS31-NB', 'dis': 4.510118799342811}, {'geometry': {'lat': 42.488633, 'lon': -96.400033}, 'id': 'SCDS11-NB', 'dis': 4.901183445881678}, {'geometry': {'lat': 42.488633, 'lon': -96.400033}, 'id': 'SCDS11-SB', 'dis': 4.901183445881678}]\n"
     ]
    }
   ],
   "source": [
    "# load your data\n",
    "df = pd.read_csv(dirpath+filename)\n",
    "\n",
    "# n=500\n",
    "\n",
    "# ans=[]\n",
    "# for i in range(len(df)//n+1):\n",
    "#     ans.append(df[i*n:i*n+n])\n",
    "    \n",
    "# print(ans)\n",
    "# print(df)\n",
    "\n",
    "data = get_locations(df)\n",
    "# print(data)\n",
    "distances = get_closest_location(data, {'lat':42.446989, 'lon':-96.380511})\n",
    "sorted_list = sort_distances(distances)\n",
    "print(sorted_list)\n",
    "# dist = calulate_distance(42.446989, -96.380511, 42.48597, -96.39441)\n",
    "# print(dist)\n",
    "\n",
    "# TODO: Get top 20 or top 10.\n",
    "# -- then plug it into the flask from the front end"
   ]
  },
  {
   "cell_type": "markdown",
   "metadata": {},
   "source": [
    "[{'geometry': {'y': 41.7081, 'x': -93.57665}}]"
   ]
  },
  {
   "cell_type": "code",
   "execution_count": 32,
   "metadata": {},
   "outputs": [],
   "source": [
    "# data.to_csv(dirpath+'/output/' + 'got_locations', header=True, index=False)"
   ]
  }
 ],
 "metadata": {
  "kernelspec": {
   "display_name": "Python 3",
   "language": "python",
   "name": "python3"
  },
  "language_info": {
   "codemirror_mode": {
    "name": "ipython",
    "version": 3
   },
   "file_extension": ".py",
   "mimetype": "text/x-python",
   "name": "python",
   "nbconvert_exporter": "python",
   "pygments_lexer": "ipython3",
   "version": "3.7.2"
  }
 },
 "nbformat": 4,
 "nbformat_minor": 2
}
